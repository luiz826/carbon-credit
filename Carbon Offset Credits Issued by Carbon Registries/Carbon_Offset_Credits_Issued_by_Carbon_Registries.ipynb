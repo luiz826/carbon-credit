{
  "nbformat": 4,
  "nbformat_minor": 0,
  "metadata": {
    "colab": {
      "provenance": []
    },
    "kernelspec": {
      "name": "python3",
      "display_name": "Python 3"
    },
    "language_info": {
      "name": "python"
    }
  },
  "cells": [
    {
      "cell_type": "markdown",
      "source": [
        "# Carbon Offset Credits Issued by Carbon Registries"
      ],
      "metadata": {
        "id": "9rEzFtbpUe1b"
      }
    },
    {
      "cell_type": "code",
      "execution_count": 3,
      "metadata": {
        "id": "6YNMSL-l-MZ1"
      },
      "outputs": [],
      "source": [
        "import pandas as pd"
      ]
    },
    {
      "cell_type": "code",
      "source": [
        "db = pd.read_csv('American Carbon Registry.csv',encoding='latin-1')"
      ],
      "metadata": {
        "id": "TNYuXyRsU-Cb"
      },
      "execution_count": 5,
      "outputs": []
    },
    {
      "cell_type": "code",
      "source": [
        "db.head(5)"
      ],
      "metadata": {
        "colab": {
          "base_uri": "https://localhost:8080/",
          "height": 634
        },
        "id": "0rEt22UJVMke",
        "outputId": "67e286b8-3cc3-4be0-a280-5ec73701fe36"
      },
      "execution_count": 8,
      "outputs": [
        {
          "output_type": "execute_result",
          "data": {
            "text/plain": [
              "  Project ID    ARB ID  Project Developer                       Project Name  \\\n",
              "0     ACR586       NaN  The Climate Trust  18 Reserves Forest Carbon Project   \n",
              "1     ACR206  CAOD5052    EOS Climate Inc                            2014-P4   \n",
              "2     ACR203       NaN    EOS Climate Inc                            2014-P5   \n",
              "3     ACR521  CAOD5521      A-Gas US Inc.                       A-Gas 1-2020   \n",
              "4     ACR522  CAOD5522      A-Gas US Inc.                       A-Gas 2-2020   \n",
              "\n",
              "                                         Project VVB  \\\n",
              "0         Aster Global Environmental Solutions, Inc.   \n",
              "1  NSF International Strategic Registrations (NSF...   \n",
              "2  NSF International Strategic Registrations (NSF...   \n",
              "3                            Ruby Canyon Environment   \n",
              "4                            Ruby Canyon Environment   \n",
              "\n",
              "                 Project Type Voluntary Status                   ARB Status  \\\n",
              "0               Forest Carbon           Listed             Not ARB Eligible   \n",
              "1  Ozone Depleting Substances              NaN                ARB Completed   \n",
              "2  Ozone Depleting Substances              NaN                 ARB Inactive   \n",
              "3  Ozone Depleting Substances              NaN  Listed - Active ARB Project   \n",
              "4  Ozone Depleting Substances              NaN  Listed - Active ARB Project   \n",
              "\n",
              "  Project Site Location Project Site State Project Site Country  \\\n",
              "0        Near Cleveland               OHIO                   US   \n",
              "1             El Dorado           ARKANSAS                   US   \n",
              "2             El Dorado           ARKANSAS                   US   \n",
              "3         Bowling Green               OHIO                   US   \n",
              "4         Bowling Green               OHIO                   US   \n",
              "\n",
              "                     Sustainable Development Goal(s) Project Notes  \\\n",
              "0  Clean Water and Sanitation;Climate Action;Life...           NaN   \n",
              "1  Industry, Innovation and Infrastructure;Respon...           NaN   \n",
              "2  Industry, Innovation and Infrastructure;Respon...           NaN   \n",
              "3  Industry, Innovation and Infrastructure;Respon...           NaN   \n",
              "4  Industry, Innovation and Infrastructure;Respon...           NaN   \n",
              "\n",
              "   Total Number of Credits Registered  Documents       Project Website  \\\n",
              "0                                  NaN      View                   NaN   \n",
              "1                              71825.0      View    www.eosclimate.com   \n",
              "2                                  NaN      View    www.eosclimate.com   \n",
              "3                              62007.0      View  www.agasamericas.com   \n",
              "4                              94565.0      View  www.agasamericas.com   \n",
              "\n",
              "   Unnamed: 16  \n",
              "0          NaN  \n",
              "1          NaN  \n",
              "2          NaN  \n",
              "3          NaN  \n",
              "4          NaN  "
            ],
            "text/html": [
              "\n",
              "  <div id=\"df-5c149d9f-b390-42f6-a23f-f6fbbf72ef3b\">\n",
              "    <div class=\"colab-df-container\">\n",
              "      <div>\n",
              "<style scoped>\n",
              "    .dataframe tbody tr th:only-of-type {\n",
              "        vertical-align: middle;\n",
              "    }\n",
              "\n",
              "    .dataframe tbody tr th {\n",
              "        vertical-align: top;\n",
              "    }\n",
              "\n",
              "    .dataframe thead th {\n",
              "        text-align: right;\n",
              "    }\n",
              "</style>\n",
              "<table border=\"1\" class=\"dataframe\">\n",
              "  <thead>\n",
              "    <tr style=\"text-align: right;\">\n",
              "      <th></th>\n",
              "      <th>Project ID</th>\n",
              "      <th>ARB ID</th>\n",
              "      <th>Project Developer</th>\n",
              "      <th>Project Name</th>\n",
              "      <th>Project VVB</th>\n",
              "      <th>Project Type</th>\n",
              "      <th>Voluntary Status</th>\n",
              "      <th>ARB Status</th>\n",
              "      <th>Project Site Location</th>\n",
              "      <th>Project Site State</th>\n",
              "      <th>Project Site Country</th>\n",
              "      <th>Sustainable Development Goal(s)</th>\n",
              "      <th>Project Notes</th>\n",
              "      <th>Total Number of Credits Registered</th>\n",
              "      <th>Documents</th>\n",
              "      <th>Project Website</th>\n",
              "      <th>Unnamed: 16</th>\n",
              "    </tr>\n",
              "  </thead>\n",
              "  <tbody>\n",
              "    <tr>\n",
              "      <th>0</th>\n",
              "      <td>ACR586</td>\n",
              "      <td>NaN</td>\n",
              "      <td>The Climate Trust</td>\n",
              "      <td>18 Reserves Forest Carbon Project</td>\n",
              "      <td>Aster Global Environmental Solutions, Inc.</td>\n",
              "      <td>Forest Carbon</td>\n",
              "      <td>Listed</td>\n",
              "      <td>Not ARB Eligible</td>\n",
              "      <td>Near Cleveland</td>\n",
              "      <td>OHIO</td>\n",
              "      <td>US</td>\n",
              "      <td>Clean Water and Sanitation;Climate Action;Life...</td>\n",
              "      <td>NaN</td>\n",
              "      <td>NaN</td>\n",
              "      <td>View</td>\n",
              "      <td>NaN</td>\n",
              "      <td>NaN</td>\n",
              "    </tr>\n",
              "    <tr>\n",
              "      <th>1</th>\n",
              "      <td>ACR206</td>\n",
              "      <td>CAOD5052</td>\n",
              "      <td>EOS Climate Inc</td>\n",
              "      <td>2014-P4</td>\n",
              "      <td>NSF International Strategic Registrations (NSF...</td>\n",
              "      <td>Ozone Depleting Substances</td>\n",
              "      <td>NaN</td>\n",
              "      <td>ARB Completed</td>\n",
              "      <td>El Dorado</td>\n",
              "      <td>ARKANSAS</td>\n",
              "      <td>US</td>\n",
              "      <td>Industry, Innovation and Infrastructure;Respon...</td>\n",
              "      <td>NaN</td>\n",
              "      <td>71825.0</td>\n",
              "      <td>View</td>\n",
              "      <td>www.eosclimate.com</td>\n",
              "      <td>NaN</td>\n",
              "    </tr>\n",
              "    <tr>\n",
              "      <th>2</th>\n",
              "      <td>ACR203</td>\n",
              "      <td>NaN</td>\n",
              "      <td>EOS Climate Inc</td>\n",
              "      <td>2014-P5</td>\n",
              "      <td>NSF International Strategic Registrations (NSF...</td>\n",
              "      <td>Ozone Depleting Substances</td>\n",
              "      <td>NaN</td>\n",
              "      <td>ARB Inactive</td>\n",
              "      <td>El Dorado</td>\n",
              "      <td>ARKANSAS</td>\n",
              "      <td>US</td>\n",
              "      <td>Industry, Innovation and Infrastructure;Respon...</td>\n",
              "      <td>NaN</td>\n",
              "      <td>NaN</td>\n",
              "      <td>View</td>\n",
              "      <td>www.eosclimate.com</td>\n",
              "      <td>NaN</td>\n",
              "    </tr>\n",
              "    <tr>\n",
              "      <th>3</th>\n",
              "      <td>ACR521</td>\n",
              "      <td>CAOD5521</td>\n",
              "      <td>A-Gas US Inc.</td>\n",
              "      <td>A-Gas 1-2020</td>\n",
              "      <td>Ruby Canyon Environment</td>\n",
              "      <td>Ozone Depleting Substances</td>\n",
              "      <td>NaN</td>\n",
              "      <td>Listed - Active ARB Project</td>\n",
              "      <td>Bowling Green</td>\n",
              "      <td>OHIO</td>\n",
              "      <td>US</td>\n",
              "      <td>Industry, Innovation and Infrastructure;Respon...</td>\n",
              "      <td>NaN</td>\n",
              "      <td>62007.0</td>\n",
              "      <td>View</td>\n",
              "      <td>www.agasamericas.com</td>\n",
              "      <td>NaN</td>\n",
              "    </tr>\n",
              "    <tr>\n",
              "      <th>4</th>\n",
              "      <td>ACR522</td>\n",
              "      <td>CAOD5522</td>\n",
              "      <td>A-Gas US Inc.</td>\n",
              "      <td>A-Gas 2-2020</td>\n",
              "      <td>Ruby Canyon Environment</td>\n",
              "      <td>Ozone Depleting Substances</td>\n",
              "      <td>NaN</td>\n",
              "      <td>Listed - Active ARB Project</td>\n",
              "      <td>Bowling Green</td>\n",
              "      <td>OHIO</td>\n",
              "      <td>US</td>\n",
              "      <td>Industry, Innovation and Infrastructure;Respon...</td>\n",
              "      <td>NaN</td>\n",
              "      <td>94565.0</td>\n",
              "      <td>View</td>\n",
              "      <td>www.agasamericas.com</td>\n",
              "      <td>NaN</td>\n",
              "    </tr>\n",
              "  </tbody>\n",
              "</table>\n",
              "</div>\n",
              "      <button class=\"colab-df-convert\" onclick=\"convertToInteractive('df-5c149d9f-b390-42f6-a23f-f6fbbf72ef3b')\"\n",
              "              title=\"Convert this dataframe to an interactive table.\"\n",
              "              style=\"display:none;\">\n",
              "        \n",
              "  <svg xmlns=\"http://www.w3.org/2000/svg\" height=\"24px\"viewBox=\"0 0 24 24\"\n",
              "       width=\"24px\">\n",
              "    <path d=\"M0 0h24v24H0V0z\" fill=\"none\"/>\n",
              "    <path d=\"M18.56 5.44l.94 2.06.94-2.06 2.06-.94-2.06-.94-.94-2.06-.94 2.06-2.06.94zm-11 1L8.5 8.5l.94-2.06 2.06-.94-2.06-.94L8.5 2.5l-.94 2.06-2.06.94zm10 10l.94 2.06.94-2.06 2.06-.94-2.06-.94-.94-2.06-.94 2.06-2.06.94z\"/><path d=\"M17.41 7.96l-1.37-1.37c-.4-.4-.92-.59-1.43-.59-.52 0-1.04.2-1.43.59L10.3 9.45l-7.72 7.72c-.78.78-.78 2.05 0 2.83L4 21.41c.39.39.9.59 1.41.59.51 0 1.02-.2 1.41-.59l7.78-7.78 2.81-2.81c.8-.78.8-2.07 0-2.86zM5.41 20L4 18.59l7.72-7.72 1.47 1.35L5.41 20z\"/>\n",
              "  </svg>\n",
              "      </button>\n",
              "      \n",
              "  <style>\n",
              "    .colab-df-container {\n",
              "      display:flex;\n",
              "      flex-wrap:wrap;\n",
              "      gap: 12px;\n",
              "    }\n",
              "\n",
              "    .colab-df-convert {\n",
              "      background-color: #E8F0FE;\n",
              "      border: none;\n",
              "      border-radius: 50%;\n",
              "      cursor: pointer;\n",
              "      display: none;\n",
              "      fill: #1967D2;\n",
              "      height: 32px;\n",
              "      padding: 0 0 0 0;\n",
              "      width: 32px;\n",
              "    }\n",
              "\n",
              "    .colab-df-convert:hover {\n",
              "      background-color: #E2EBFA;\n",
              "      box-shadow: 0px 1px 2px rgba(60, 64, 67, 0.3), 0px 1px 3px 1px rgba(60, 64, 67, 0.15);\n",
              "      fill: #174EA6;\n",
              "    }\n",
              "\n",
              "    [theme=dark] .colab-df-convert {\n",
              "      background-color: #3B4455;\n",
              "      fill: #D2E3FC;\n",
              "    }\n",
              "\n",
              "    [theme=dark] .colab-df-convert:hover {\n",
              "      background-color: #434B5C;\n",
              "      box-shadow: 0px 1px 3px 1px rgba(0, 0, 0, 0.15);\n",
              "      filter: drop-shadow(0px 1px 2px rgba(0, 0, 0, 0.3));\n",
              "      fill: #FFFFFF;\n",
              "    }\n",
              "  </style>\n",
              "\n",
              "      <script>\n",
              "        const buttonEl =\n",
              "          document.querySelector('#df-5c149d9f-b390-42f6-a23f-f6fbbf72ef3b button.colab-df-convert');\n",
              "        buttonEl.style.display =\n",
              "          google.colab.kernel.accessAllowed ? 'block' : 'none';\n",
              "\n",
              "        async function convertToInteractive(key) {\n",
              "          const element = document.querySelector('#df-5c149d9f-b390-42f6-a23f-f6fbbf72ef3b');\n",
              "          const dataTable =\n",
              "            await google.colab.kernel.invokeFunction('convertToInteractive',\n",
              "                                                     [key], {});\n",
              "          if (!dataTable) return;\n",
              "\n",
              "          const docLinkHtml = 'Like what you see? Visit the ' +\n",
              "            '<a target=\"_blank\" href=https://colab.research.google.com/notebooks/data_table.ipynb>data table notebook</a>'\n",
              "            + ' to learn more about interactive tables.';\n",
              "          element.innerHTML = '';\n",
              "          dataTable['output_type'] = 'display_data';\n",
              "          await google.colab.output.renderOutput(dataTable, element);\n",
              "          const docLink = document.createElement('div');\n",
              "          docLink.innerHTML = docLinkHtml;\n",
              "          element.appendChild(docLink);\n",
              "        }\n",
              "      </script>\n",
              "    </div>\n",
              "  </div>\n",
              "  "
            ]
          },
          "metadata": {},
          "execution_count": 8
        }
      ]
    },
    {
      "cell_type": "code",
      "source": [
        "db.info()"
      ],
      "metadata": {
        "colab": {
          "base_uri": "https://localhost:8080/"
        },
        "id": "rpnSpESwVxHL",
        "outputId": "b3e43e7f-ade9-4697-d394-7efb3354d8a8"
      },
      "execution_count": 9,
      "outputs": [
        {
          "output_type": "stream",
          "name": "stdout",
          "text": [
            "<class 'pandas.core.frame.DataFrame'>\n",
            "RangeIndex: 475 entries, 0 to 474\n",
            "Data columns (total 17 columns):\n",
            " #   Column                               Non-Null Count  Dtype  \n",
            "---  ------                               --------------  -----  \n",
            " 0   Project ID                           475 non-null    object \n",
            " 1   ARB ID                               208 non-null    object \n",
            " 2   Project Developer                    475 non-null    object \n",
            " 3   Project Name                         475 non-null    object \n",
            " 4   Project VVB                          385 non-null    object \n",
            " 5   Project Type                         475 non-null    object \n",
            " 6   Voluntary Status                     216 non-null    object \n",
            " 7   ARB Status                           475 non-null    object \n",
            " 8   Project Site Location                474 non-null    object \n",
            " 9   Project Site State                   473 non-null    object \n",
            " 10  Project Site Country                 475 non-null    object \n",
            " 11  Sustainable Development Goal(s)      421 non-null    object \n",
            " 12  Project Notes                        1 non-null      object \n",
            " 13  Total Number of Credits Registered   350 non-null    float64\n",
            " 14  Documents                            475 non-null    object \n",
            " 15  Project Website                      91 non-null     object \n",
            " 16  Unnamed: 16                          0 non-null      float64\n",
            "dtypes: float64(2), object(15)\n",
            "memory usage: 63.2+ KB\n"
          ]
        }
      ]
    },
    {
      "cell_type": "markdown",
      "source": [],
      "metadata": {
        "id": "zmA0VxAOseLO"
      }
    },
    {
      "cell_type": "code",
      "source": [],
      "metadata": {
        "id": "u7kx0283sdY5"
      },
      "execution_count": null,
      "outputs": []
    },
    {
      "cell_type": "markdown",
      "source": [
        "### Project Type"
      ],
      "metadata": {
        "id": "_N5QTNSjrq9B"
      }
    },
    {
      "cell_type": "code",
      "source": [
        "Project_Type = db[db.columns[5]].dropna()"
      ],
      "metadata": {
        "id": "7LW5HY27rr3k"
      },
      "execution_count": 94,
      "outputs": []
    },
    {
      "cell_type": "code",
      "source": [
        "Project_Type.value_counts()"
      ],
      "metadata": {
        "colab": {
          "base_uri": "https://localhost:8080/"
        },
        "id": "IO7i5r7xr7MC",
        "outputId": "6fdb12d0-b8f8-4708-9196-8b2e8f465994"
      },
      "execution_count": 95,
      "outputs": [
        {
          "output_type": "execute_result",
          "data": {
            "text/plain": [
              "Forest Carbon                        152\n",
              "Ozone Depleting Substances           110\n",
              "Industrial Process Emissions          71\n",
              "Transport / Fleet Efficiency          36\n",
              "Coal Mine Methane                     33\n",
              "Livestock Waste Management            24\n",
              "Landfill Gas Capture & Combustion     13\n",
              "Fuel Switching                         9\n",
              "Agricultural Land Management           8\n",
              "Wetland Restoration                    5\n",
              "Carbon Capture & Storage (CCS)         5\n",
              "Renewable Energy                       5\n",
              "Energy Efficiency                      2\n",
              "Industrial Gas Substitution            1\n",
              "Wastewater Treatment                   1\n",
              "Name: Project Type, dtype: int64"
            ]
          },
          "metadata": {},
          "execution_count": 95
        }
      ]
    },
    {
      "cell_type": "markdown",
      "source": [
        "### Project Site Country"
      ],
      "metadata": {
        "id": "SDmjPyBMqs7n"
      }
    },
    {
      "cell_type": "code",
      "source": [
        "Project_Country = db[db.columns[10]].dropna()"
      ],
      "metadata": {
        "id": "D39gCov7qtK6"
      },
      "execution_count": 90,
      "outputs": []
    },
    {
      "cell_type": "code",
      "source": [
        "Project_Country.value_counts()"
      ],
      "metadata": {
        "colab": {
          "base_uri": "https://localhost:8080/"
        },
        "id": "ERY6GRKirYrV",
        "outputId": "2d06408d-b45a-46de-8c09-d9b20a2487c4"
      },
      "execution_count": 91,
      "outputs": [
        {
          "output_type": "execute_result",
          "data": {
            "text/plain": [
              "US    452\n",
              "BR     11\n",
              "CA      4\n",
              "MG      2\n",
              "ML      1\n",
              "BO      1\n",
              "RW      1\n",
              "SV      1\n",
              "MX      1\n",
              "NI      1\n",
              "Name: Project Site Country, dtype: int64"
            ]
          },
          "metadata": {},
          "execution_count": 91
        }
      ]
    },
    {
      "cell_type": "markdown",
      "source": [
        "### Sustainable Development Goal(s)"
      ],
      "metadata": {
        "id": "RmpzopYLbC0z"
      }
    },
    {
      "cell_type": "code",
      "source": [
        "sustainable_goals = db[db.columns[11]].dropna()"
      ],
      "metadata": {
        "id": "Uh9dyIIMWE3g"
      },
      "execution_count": 56,
      "outputs": []
    },
    {
      "cell_type": "code",
      "source": [
        "goal = []\n",
        "for i in sustainable_goals:\n",
        "  temp = i.split(';')\n",
        "  for j in temp:\n",
        "    goal.append(j)"
      ],
      "metadata": {
        "id": "v-boqeyZX3zL"
      },
      "execution_count": 67,
      "outputs": []
    },
    {
      "cell_type": "code",
      "source": [
        "index = [i[0] for i in pd.DataFrame(goal).value_counts().index.tolist()]"
      ],
      "metadata": {
        "id": "19MAiEF4gZsP"
      },
      "execution_count": 86,
      "outputs": []
    },
    {
      "cell_type": "code",
      "source": [
        "pd.DataFrame(goal).value_counts()"
      ],
      "metadata": {
        "colab": {
          "base_uri": "https://localhost:8080/"
        },
        "id": "6roT1MexrJe4",
        "outputId": "23711a44-02a2-4716-e2ac-8a3a606ea8c8"
      },
      "execution_count": 89,
      "outputs": [
        {
          "output_type": "execute_result",
          "data": {
            "text/plain": [
              "Climate Action                             421\n",
              "Industry, Innovation and Infrastructure    246\n",
              "Responsible Consumption and Production     173\n",
              "Clean Water and Sanitation                 169\n",
              "Life on Land                               169\n",
              "Zero Hunger                                 28\n",
              "Affordable and Clean Energy                 14\n",
              "Sustainable Cities and Communities          14\n",
              "Good Health and Well-Being                   3\n",
              "dtype: int64"
            ]
          },
          "metadata": {},
          "execution_count": 89
        }
      ]
    },
    {
      "cell_type": "markdown",
      "source": [
        "### Total Number of Credits Registered"
      ],
      "metadata": {
        "id": "zMvZXQ-dqn7R"
      }
    },
    {
      "cell_type": "code",
      "source": [
        "n_credits = db[db.columns[13]].dropna()"
      ],
      "metadata": {
        "id": "kfeFhgQfmJmK"
      },
      "execution_count": 97,
      "outputs": []
    },
    {
      "cell_type": "code",
      "source": [
        "n_credits.describe()"
      ],
      "metadata": {
        "colab": {
          "base_uri": "https://localhost:8080/"
        },
        "id": "aBYhkJQ9vxzh",
        "outputId": "a74a82c8-73ce-4ecd-f90d-cc95681ccf20"
      },
      "execution_count": 98,
      "outputs": [
        {
          "output_type": "execute_result",
          "data": {
            "text/plain": [
              "count    3.500000e+02\n",
              "mean     5.543149e+05\n",
              "std      1.683249e+06\n",
              "min      2.000000e+00\n",
              "25%      4.107950e+04\n",
              "50%      1.010200e+05\n",
              "75%      2.669118e+05\n",
              "max      1.577168e+07\n",
              "Name: Total Number of Credits Registered , dtype: float64"
            ]
          },
          "metadata": {},
          "execution_count": 98
        }
      ]
    },
    {
      "cell_type": "markdown",
      "source": [
        "#### type project"
      ],
      "metadata": {
        "id": "eycNZR49yJml"
      }
    },
    {
      "cell_type": "code",
      "source": [
        "type_project_list =  db[db.columns[5]].dropna().unique()"
      ],
      "metadata": {
        "id": "LJuQah_NyPdm"
      },
      "execution_count": 103,
      "outputs": []
    },
    {
      "cell_type": "code",
      "source": [
        "type_project_list"
      ],
      "metadata": {
        "colab": {
          "base_uri": "https://localhost:8080/"
        },
        "id": "-aqG4Mg2yseO",
        "outputId": "28cbe16b-9169-4ef9-c4ff-867acf51619d"
      },
      "execution_count": 104,
      "outputs": [
        {
          "output_type": "execute_result",
          "data": {
            "text/plain": [
              "array(['Forest Carbon', 'Ozone Depleting Substances',\n",
              "       'Industrial Process Emissions', 'Fuel Switching',\n",
              "       'Industrial Gas Substitution', 'Livestock Waste Management',\n",
              "       'Coal Mine Methane', 'Landfill Gas Capture & Combustion',\n",
              "       'Agricultural Land Management', 'Energy Efficiency',\n",
              "       'Wetland Restoration', 'Transport / Fleet Efficiency',\n",
              "       'Carbon Capture & Storage (CCS)', 'Renewable Energy',\n",
              "       'Wastewater Treatment'], dtype=object)"
            ]
          },
          "metadata": {},
          "execution_count": 104
        }
      ]
    },
    {
      "cell_type": "code",
      "source": [
        "credits_per_type_project_list = []\n",
        "\n",
        "for i in type_project_list:\n",
        "  credits_per_type_project = db[db['Project Type'] == i]\n",
        "  credits_per_type_project = pd.DataFrame(credits_per_type_project)\n",
        "  credits_per_type_project = credits_per_type_project['Total Number of Credits Registered '].dropna()\n",
        "  total_credits = sum(credits_per_type_project)\n",
        "  credits_per_type_project_list.append(total_credits)"
      ],
      "metadata": {
        "id": "JY66Gg3zzaRq"
      },
      "execution_count": 119,
      "outputs": []
    },
    {
      "cell_type": "code",
      "source": [
        "credits_per_type_project_list"
      ],
      "metadata": {
        "colab": {
          "base_uri": "https://localhost:8080/"
        },
        "id": "D3HG6GmQ7Buu",
        "outputId": "be5608f2-0fd1-4c8d-a308-a4ceca465538"
      },
      "execution_count": 120,
      "outputs": [
        {
          "output_type": "execute_result",
          "data": {
            "text/plain": [
              "[131251271.0,\n",
              " 9893520.0,\n",
              " 7717933.0,\n",
              " 255129.0,\n",
              " 7984006.0,\n",
              " 1652811.0,\n",
              " 4021429.0,\n",
              " 6228851.0,\n",
              " 82586.0,\n",
              " 439035.0,\n",
              " 59552.0,\n",
              " 934709.0,\n",
              " 21780080.0,\n",
              " 1609305.0,\n",
              " 100000.0]"
            ]
          },
          "metadata": {},
          "execution_count": 120
        }
      ]
    },
    {
      "cell_type": "markdown",
      "source": [
        "#### country"
      ],
      "metadata": {
        "id": "H2NZjeI27-wJ"
      }
    },
    {
      "cell_type": "code",
      "source": [
        "country_list =  db[db.columns[10]].dropna().unique()"
      ],
      "metadata": {
        "id": "pvuzEvCG8KnD"
      },
      "execution_count": 121,
      "outputs": []
    },
    {
      "cell_type": "code",
      "source": [
        "country_list"
      ],
      "metadata": {
        "colab": {
          "base_uri": "https://localhost:8080/"
        },
        "id": "jhiX_AFR8TAv",
        "outputId": "3eacd3a6-1efe-475a-8011-813fb2ad37b2"
      },
      "execution_count": 122,
      "outputs": [
        {
          "output_type": "execute_result",
          "data": {
            "text/plain": [
              "array(['US', 'BR', 'ML', 'MG', 'BO', 'RW', 'CA', 'SV', 'MX', 'NI'],\n",
              "      dtype=object)"
            ]
          },
          "metadata": {},
          "execution_count": 122
        }
      ]
    },
    {
      "cell_type": "code",
      "source": [
        "credits_per_country_list = []\n",
        "\n",
        "for i in country_list:\n",
        "  credits_per_country = db[db['Project Site Country'] == i]\n",
        "  credits_per_country = pd.DataFrame(credits_per_country)\n",
        "  credits_per_country = credits_per_country['Total Number of Credits Registered '].dropna()\n",
        "  total_credits = sum(credits_per_country)\n",
        "  credits_per_country_list.append(total_credits)"
      ],
      "metadata": {
        "id": "cQooU8_l8Vhg"
      },
      "execution_count": 123,
      "outputs": []
    },
    {
      "cell_type": "code",
      "source": [
        "credits_per_country_list"
      ],
      "metadata": {
        "colab": {
          "base_uri": "https://localhost:8080/"
        },
        "id": "tlIQLCvK9Di6",
        "outputId": "44e9a571-ba72-4de0-8cc4-1b42e2b9e9d6"
      },
      "execution_count": 124,
      "outputs": [
        {
          "output_type": "execute_result",
          "data": {
            "text/plain": [
              "[188397591.0, 5533800.0, 0, 0, 1138.0, 0, 73606.0, 169.0, 0, 3913.0]"
            ]
          },
          "metadata": {},
          "execution_count": 124
        }
      ]
    }
  ]
}