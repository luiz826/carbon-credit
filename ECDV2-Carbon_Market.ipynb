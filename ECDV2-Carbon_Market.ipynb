{
 "cells": [
  {
   "attachments": {},
   "cell_type": "markdown",
   "metadata": {},
   "source": [
    "# Estudo de Caso de Data Visualization 2: <br> Mercado de Carbono"
   ]
  },
  {
   "attachments": {},
   "cell_type": "markdown",
   "metadata": {},
   "source": [
    "Esse projeto foi desenvolvido para a disciplina de Visualização de Dados do curso de Ciência de Dados e Inteligência Artificial da UFPB, com o intuito de apresentar o cenário do mercado de carbono no mundo, para compreender melhor o tema através da visualizações de dados.\n",
    "\n",
    "Alunos: <br>\n",
    "- Caio Lucas da Silva Chacon\n",
    "- Deivison Rodrigues Jordão\n",
    "- Luiz Fernando Costa dos Santos\n",
    "- Yhasmim de Souza Tigre"
   ]
  },
  {
   "attachments": {},
   "cell_type": "markdown",
   "metadata": {},
   "source": [
    "## 1. Dados Brutos"
   ]
  },
  {
   "attachments": {},
   "cell_type": "markdown",
   "metadata": {},
   "source": [
    "Os dados utilizados nesse projeto foram encontrados em: <br>\n",
    "- kaggle datasets - https://www.kaggle.com/datasets/jsun13/carbon-offset-credits-issued-by-carbon-registries <br>\n",
    "- IMF Climate Change Dashboard - https://climatedata.imf.org/pages/access-data"
   ]
  },
  {
   "attachments": {},
   "cell_type": "markdown",
   "metadata": {},
   "source": [
    "## 2. Pré-processamento"
   ]
  },
  {
   "attachments": {},
   "cell_type": "markdown",
   "metadata": {},
   "source": [
    "## 3. Representações Visuais"
   ]
  },
  {
   "attachments": {},
   "cell_type": "markdown",
   "metadata": {},
   "source": [
    "## 4. Análises"
   ]
  }
 ],
 "metadata": {
  "language_info": {
   "name": "python"
  },
  "orig_nbformat": 4
 },
 "nbformat": 4,
 "nbformat_minor": 2
}
